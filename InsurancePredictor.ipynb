{
 "cells": [
  {
   "cell_type": "markdown",
   "id": "a000c5fb-e2f6-4045-866d-eaac92de4995",
   "metadata": {},
   "source": [
    "# INSURANCE PREDICTOR "
   ]
  },
  {
   "cell_type": "code",
   "execution_count": 1,
   "id": "b2b847e8-60be-45fc-9891-f2336b5464c4",
   "metadata": {},
   "outputs": [],
   "source": [
    "## import necessary packages "
   ]
  },
  {
   "cell_type": "code",
   "execution_count": 3,
   "id": "7f95eaa2-93e6-4607-984c-172e6bd768ac",
   "metadata": {},
   "outputs": [],
   "source": [
    "import pandas as pd\n",
    "import matplotlib.pyplot as plt\n",
    "import numpy as np\n",
    "%matplotlib inline\n",
    "from warnings import filterwarnings\n",
    "filterwarnings('ignore')"
   ]
  },
  {
   "cell_type": "code",
   "execution_count": 4,
   "id": "3dc10841-a4a6-44bd-b708-16e964790bc1",
   "metadata": {},
   "outputs": [],
   "source": [
    "## load the dataset ."
   ]
  },
  {
   "cell_type": "code",
   "execution_count": 5,
   "id": "cfa7fb8a-9c34-47e3-bb4b-9a2352677337",
   "metadata": {},
   "outputs": [],
   "source": [
    "dataset = pd.read_csv('Dataset/insurance.csv')"
   ]
  },
  {
   "cell_type": "code",
   "execution_count": 6,
   "id": "c69a97fc-5343-4b5e-ba22-7df45b9bee0e",
   "metadata": {},
   "outputs": [
    {
     "data": {
      "text/html": [
       "<div>\n",
       "<style scoped>\n",
       "    .dataframe tbody tr th:only-of-type {\n",
       "        vertical-align: middle;\n",
       "    }\n",
       "\n",
       "    .dataframe tbody tr th {\n",
       "        vertical-align: top;\n",
       "    }\n",
       "\n",
       "    .dataframe thead th {\n",
       "        text-align: right;\n",
       "    }\n",
       "</style>\n",
       "<table border=\"1\" class=\"dataframe\">\n",
       "  <thead>\n",
       "    <tr style=\"text-align: right;\">\n",
       "      <th></th>\n",
       "      <th>age</th>\n",
       "      <th>sex</th>\n",
       "      <th>bmi</th>\n",
       "      <th>children</th>\n",
       "      <th>smoker</th>\n",
       "      <th>region</th>\n",
       "      <th>charges</th>\n",
       "    </tr>\n",
       "  </thead>\n",
       "  <tbody>\n",
       "    <tr>\n",
       "      <th>0</th>\n",
       "      <td>19</td>\n",
       "      <td>female</td>\n",
       "      <td>27.900</td>\n",
       "      <td>0</td>\n",
       "      <td>yes</td>\n",
       "      <td>southwest</td>\n",
       "      <td>16884.92400</td>\n",
       "    </tr>\n",
       "    <tr>\n",
       "      <th>1</th>\n",
       "      <td>18</td>\n",
       "      <td>male</td>\n",
       "      <td>33.770</td>\n",
       "      <td>1</td>\n",
       "      <td>no</td>\n",
       "      <td>southeast</td>\n",
       "      <td>1725.55230</td>\n",
       "    </tr>\n",
       "    <tr>\n",
       "      <th>2</th>\n",
       "      <td>28</td>\n",
       "      <td>male</td>\n",
       "      <td>33.000</td>\n",
       "      <td>3</td>\n",
       "      <td>no</td>\n",
       "      <td>southeast</td>\n",
       "      <td>4449.46200</td>\n",
       "    </tr>\n",
       "    <tr>\n",
       "      <th>3</th>\n",
       "      <td>33</td>\n",
       "      <td>male</td>\n",
       "      <td>22.705</td>\n",
       "      <td>0</td>\n",
       "      <td>no</td>\n",
       "      <td>northwest</td>\n",
       "      <td>21984.47061</td>\n",
       "    </tr>\n",
       "    <tr>\n",
       "      <th>4</th>\n",
       "      <td>32</td>\n",
       "      <td>male</td>\n",
       "      <td>28.880</td>\n",
       "      <td>0</td>\n",
       "      <td>no</td>\n",
       "      <td>northwest</td>\n",
       "      <td>3866.85520</td>\n",
       "    </tr>\n",
       "  </tbody>\n",
       "</table>\n",
       "</div>"
      ],
      "text/plain": [
       "   age     sex     bmi  children smoker     region      charges\n",
       "0   19  female  27.900         0    yes  southwest  16884.92400\n",
       "1   18    male  33.770         1     no  southeast   1725.55230\n",
       "2   28    male  33.000         3     no  southeast   4449.46200\n",
       "3   33    male  22.705         0     no  northwest  21984.47061\n",
       "4   32    male  28.880         0     no  northwest   3866.85520"
      ]
     },
     "execution_count": 6,
     "metadata": {},
     "output_type": "execute_result"
    }
   ],
   "source": [
    "dataset.head()"
   ]
  },
  {
   "cell_type": "code",
   "execution_count": 10,
   "id": "cec4d31f-a45b-4200-9d84-fd7885844c33",
   "metadata": {},
   "outputs": [
    {
     "data": {
      "text/plain": [
       "array(['yes', 'no'], dtype=object)"
      ]
     },
     "execution_count": 10,
     "metadata": {},
     "output_type": "execute_result"
    }
   ],
   "source": [
    "dataset.smoker.unique()"
   ]
  },
  {
   "cell_type": "code",
   "execution_count": 11,
   "id": "92c01659-5aa6-4552-964b-22768bf8c93d",
   "metadata": {},
   "outputs": [
    {
     "data": {
      "text/plain": [
       "array(['southwest', 'southeast', 'northwest', 'northeast'], dtype=object)"
      ]
     },
     "execution_count": 11,
     "metadata": {},
     "output_type": "execute_result"
    }
   ],
   "source": [
    "dataset.region.unique()"
   ]
  },
  {
   "cell_type": "code",
   "execution_count": 7,
   "id": "463a6d36-d884-410a-97af-510f663bf6e0",
   "metadata": {},
   "outputs": [],
   "source": [
    "## regions and smoker are categorical . \n",
    "## in terms of insurance smoker can play an important role so lets encode it ."
   ]
  },
  {
   "cell_type": "code",
   "execution_count": 9,
   "id": "af3dcd24-913a-4e05-843a-b22cab331d0d",
   "metadata": {},
   "outputs": [],
   "source": [
    "## we will use OHE encoding"
   ]
  },
  {
   "cell_type": "code",
   "execution_count": 14,
   "id": "7cca24bb-4003-4351-9d8c-126b583931c1",
   "metadata": {},
   "outputs": [],
   "source": [
    "from sklearn.preprocessing import OneHotEncoder\n",
    "\n",
    "##create an instance of Onehotencoder\n",
    "encoder=OneHotEncoder()\n",
    "\n",
    "## perform fit and transform\n",
    "encoded=encoder.fit_transform(dataset[['smoker']]).toarray()\n",
    "\n",
    "encoder_df=pd.DataFrame(encoded,columns=encoder.get_feature_names_out())"
   ]
  },
  {
   "cell_type": "code",
   "execution_count": 15,
   "id": "81b1d2cc-0169-4385-b279-b652a8d9a0f3",
   "metadata": {},
   "outputs": [
    {
     "data": {
      "text/html": [
       "<div>\n",
       "<style scoped>\n",
       "    .dataframe tbody tr th:only-of-type {\n",
       "        vertical-align: middle;\n",
       "    }\n",
       "\n",
       "    .dataframe tbody tr th {\n",
       "        vertical-align: top;\n",
       "    }\n",
       "\n",
       "    .dataframe thead th {\n",
       "        text-align: right;\n",
       "    }\n",
       "</style>\n",
       "<table border=\"1\" class=\"dataframe\">\n",
       "  <thead>\n",
       "    <tr style=\"text-align: right;\">\n",
       "      <th></th>\n",
       "      <th>smoker_no</th>\n",
       "      <th>smoker_yes</th>\n",
       "    </tr>\n",
       "  </thead>\n",
       "  <tbody>\n",
       "    <tr>\n",
       "      <th>0</th>\n",
       "      <td>0.0</td>\n",
       "      <td>1.0</td>\n",
       "    </tr>\n",
       "    <tr>\n",
       "      <th>1</th>\n",
       "      <td>1.0</td>\n",
       "      <td>0.0</td>\n",
       "    </tr>\n",
       "    <tr>\n",
       "      <th>2</th>\n",
       "      <td>1.0</td>\n",
       "      <td>0.0</td>\n",
       "    </tr>\n",
       "    <tr>\n",
       "      <th>3</th>\n",
       "      <td>1.0</td>\n",
       "      <td>0.0</td>\n",
       "    </tr>\n",
       "    <tr>\n",
       "      <th>4</th>\n",
       "      <td>1.0</td>\n",
       "      <td>0.0</td>\n",
       "    </tr>\n",
       "  </tbody>\n",
       "</table>\n",
       "</div>"
      ],
      "text/plain": [
       "   smoker_no  smoker_yes\n",
       "0        0.0         1.0\n",
       "1        1.0         0.0\n",
       "2        1.0         0.0\n",
       "3        1.0         0.0\n",
       "4        1.0         0.0"
      ]
     },
     "execution_count": 15,
     "metadata": {},
     "output_type": "execute_result"
    }
   ],
   "source": [
    "encoder_df.head()"
   ]
  },
  {
   "cell_type": "code",
   "execution_count": 16,
   "id": "5580c4a5-18e1-4ff0-995d-ba50a0545f08",
   "metadata": {},
   "outputs": [],
   "source": [
    "## now lets concat this .but before drop smoker "
   ]
  },
  {
   "cell_type": "code",
   "execution_count": 18,
   "id": "37acf8e0-823f-40c9-9b4c-822fc8ac519c",
   "metadata": {},
   "outputs": [],
   "source": [
    "dataset.drop('smoker',axis=1,inplace=True)"
   ]
  },
  {
   "cell_type": "code",
   "execution_count": 17,
   "id": "09cf85da-cb24-45fb-b67f-de6e732e6553",
   "metadata": {},
   "outputs": [],
   "source": [
    "dataset = pd.concat([dataset,encoder_df],axis=1)"
   ]
  },
  {
   "cell_type": "code",
   "execution_count": 19,
   "id": "af52e778-a2fb-4446-931c-dc922324206f",
   "metadata": {},
   "outputs": [
    {
     "data": {
      "text/html": [
       "<div>\n",
       "<style scoped>\n",
       "    .dataframe tbody tr th:only-of-type {\n",
       "        vertical-align: middle;\n",
       "    }\n",
       "\n",
       "    .dataframe tbody tr th {\n",
       "        vertical-align: top;\n",
       "    }\n",
       "\n",
       "    .dataframe thead th {\n",
       "        text-align: right;\n",
       "    }\n",
       "</style>\n",
       "<table border=\"1\" class=\"dataframe\">\n",
       "  <thead>\n",
       "    <tr style=\"text-align: right;\">\n",
       "      <th></th>\n",
       "      <th>age</th>\n",
       "      <th>sex</th>\n",
       "      <th>bmi</th>\n",
       "      <th>children</th>\n",
       "      <th>region</th>\n",
       "      <th>charges</th>\n",
       "      <th>smoker_no</th>\n",
       "      <th>smoker_yes</th>\n",
       "    </tr>\n",
       "  </thead>\n",
       "  <tbody>\n",
       "    <tr>\n",
       "      <th>0</th>\n",
       "      <td>19</td>\n",
       "      <td>female</td>\n",
       "      <td>27.900</td>\n",
       "      <td>0</td>\n",
       "      <td>southwest</td>\n",
       "      <td>16884.92400</td>\n",
       "      <td>0.0</td>\n",
       "      <td>1.0</td>\n",
       "    </tr>\n",
       "    <tr>\n",
       "      <th>1</th>\n",
       "      <td>18</td>\n",
       "      <td>male</td>\n",
       "      <td>33.770</td>\n",
       "      <td>1</td>\n",
       "      <td>southeast</td>\n",
       "      <td>1725.55230</td>\n",
       "      <td>1.0</td>\n",
       "      <td>0.0</td>\n",
       "    </tr>\n",
       "    <tr>\n",
       "      <th>2</th>\n",
       "      <td>28</td>\n",
       "      <td>male</td>\n",
       "      <td>33.000</td>\n",
       "      <td>3</td>\n",
       "      <td>southeast</td>\n",
       "      <td>4449.46200</td>\n",
       "      <td>1.0</td>\n",
       "      <td>0.0</td>\n",
       "    </tr>\n",
       "    <tr>\n",
       "      <th>3</th>\n",
       "      <td>33</td>\n",
       "      <td>male</td>\n",
       "      <td>22.705</td>\n",
       "      <td>0</td>\n",
       "      <td>northwest</td>\n",
       "      <td>21984.47061</td>\n",
       "      <td>1.0</td>\n",
       "      <td>0.0</td>\n",
       "    </tr>\n",
       "    <tr>\n",
       "      <th>4</th>\n",
       "      <td>32</td>\n",
       "      <td>male</td>\n",
       "      <td>28.880</td>\n",
       "      <td>0</td>\n",
       "      <td>northwest</td>\n",
       "      <td>3866.85520</td>\n",
       "      <td>1.0</td>\n",
       "      <td>0.0</td>\n",
       "    </tr>\n",
       "  </tbody>\n",
       "</table>\n",
       "</div>"
      ],
      "text/plain": [
       "   age     sex     bmi  children     region      charges  smoker_no  \\\n",
       "0   19  female  27.900         0  southwest  16884.92400        0.0   \n",
       "1   18    male  33.770         1  southeast   1725.55230        1.0   \n",
       "2   28    male  33.000         3  southeast   4449.46200        1.0   \n",
       "3   33    male  22.705         0  northwest  21984.47061        1.0   \n",
       "4   32    male  28.880         0  northwest   3866.85520        1.0   \n",
       "\n",
       "   smoker_yes  \n",
       "0         1.0  \n",
       "1         0.0  \n",
       "2         0.0  \n",
       "3         0.0  \n",
       "4         0.0  "
      ]
     },
     "execution_count": 19,
     "metadata": {},
     "output_type": "execute_result"
    }
   ],
   "source": [
    "dataset.head()"
   ]
  },
  {
   "cell_type": "code",
   "execution_count": 26,
   "id": "374a64ac-493c-4238-8772-c04ad619d11c",
   "metadata": {},
   "outputs": [],
   "source": [
    "## regions is a factor for variables like - housing,trip and not for insurance so lets drop it .\n",
    "## sex is not a factor also so lets drop it too."
   ]
  },
  {
   "cell_type": "code",
   "execution_count": 21,
   "id": "c7317f58-1046-435a-bb31-792829d172cc",
   "metadata": {},
   "outputs": [],
   "source": [
    "dataset.drop('region',axis=1,inplace=True)"
   ]
  },
  {
   "cell_type": "code",
   "execution_count": 27,
   "id": "169d5fa0-bcb2-41d6-8c12-888e00a4ac15",
   "metadata": {},
   "outputs": [],
   "source": [
    "dataset.drop('sex',axis=1,inplace=True)"
   ]
  },
  {
   "cell_type": "code",
   "execution_count": 28,
   "id": "3b0d7ee3-947a-4a73-abac-56b4a8174c03",
   "metadata": {},
   "outputs": [
    {
     "data": {
      "text/html": [
       "<div>\n",
       "<style scoped>\n",
       "    .dataframe tbody tr th:only-of-type {\n",
       "        vertical-align: middle;\n",
       "    }\n",
       "\n",
       "    .dataframe tbody tr th {\n",
       "        vertical-align: top;\n",
       "    }\n",
       "\n",
       "    .dataframe thead th {\n",
       "        text-align: right;\n",
       "    }\n",
       "</style>\n",
       "<table border=\"1\" class=\"dataframe\">\n",
       "  <thead>\n",
       "    <tr style=\"text-align: right;\">\n",
       "      <th></th>\n",
       "      <th>age</th>\n",
       "      <th>bmi</th>\n",
       "      <th>children</th>\n",
       "      <th>charges</th>\n",
       "      <th>smoker_no</th>\n",
       "      <th>smoker_yes</th>\n",
       "    </tr>\n",
       "  </thead>\n",
       "  <tbody>\n",
       "    <tr>\n",
       "      <th>0</th>\n",
       "      <td>19</td>\n",
       "      <td>27.900</td>\n",
       "      <td>0</td>\n",
       "      <td>16884.92400</td>\n",
       "      <td>0.0</td>\n",
       "      <td>1.0</td>\n",
       "    </tr>\n",
       "    <tr>\n",
       "      <th>1</th>\n",
       "      <td>18</td>\n",
       "      <td>33.770</td>\n",
       "      <td>1</td>\n",
       "      <td>1725.55230</td>\n",
       "      <td>1.0</td>\n",
       "      <td>0.0</td>\n",
       "    </tr>\n",
       "    <tr>\n",
       "      <th>2</th>\n",
       "      <td>28</td>\n",
       "      <td>33.000</td>\n",
       "      <td>3</td>\n",
       "      <td>4449.46200</td>\n",
       "      <td>1.0</td>\n",
       "      <td>0.0</td>\n",
       "    </tr>\n",
       "    <tr>\n",
       "      <th>3</th>\n",
       "      <td>33</td>\n",
       "      <td>22.705</td>\n",
       "      <td>0</td>\n",
       "      <td>21984.47061</td>\n",
       "      <td>1.0</td>\n",
       "      <td>0.0</td>\n",
       "    </tr>\n",
       "    <tr>\n",
       "      <th>4</th>\n",
       "      <td>32</td>\n",
       "      <td>28.880</td>\n",
       "      <td>0</td>\n",
       "      <td>3866.85520</td>\n",
       "      <td>1.0</td>\n",
       "      <td>0.0</td>\n",
       "    </tr>\n",
       "  </tbody>\n",
       "</table>\n",
       "</div>"
      ],
      "text/plain": [
       "   age     bmi  children      charges  smoker_no  smoker_yes\n",
       "0   19  27.900         0  16884.92400        0.0         1.0\n",
       "1   18  33.770         1   1725.55230        1.0         0.0\n",
       "2   28  33.000         3   4449.46200        1.0         0.0\n",
       "3   33  22.705         0  21984.47061        1.0         0.0\n",
       "4   32  28.880         0   3866.85520        1.0         0.0"
      ]
     },
     "execution_count": 28,
     "metadata": {},
     "output_type": "execute_result"
    }
   ],
   "source": [
    "dataset.head()"
   ]
  },
  {
   "cell_type": "code",
   "execution_count": 40,
   "id": "14f04cca-1cd3-467e-ab2f-d50007c158b1",
   "metadata": {},
   "outputs": [
    {
     "data": {
      "text/html": [
       "<div>\n",
       "<style scoped>\n",
       "    .dataframe tbody tr th:only-of-type {\n",
       "        vertical-align: middle;\n",
       "    }\n",
       "\n",
       "    .dataframe tbody tr th {\n",
       "        vertical-align: top;\n",
       "    }\n",
       "\n",
       "    .dataframe thead th {\n",
       "        text-align: right;\n",
       "    }\n",
       "</style>\n",
       "<table border=\"1\" class=\"dataframe\">\n",
       "  <thead>\n",
       "    <tr style=\"text-align: right;\">\n",
       "      <th></th>\n",
       "      <th>age</th>\n",
       "      <th>bmi</th>\n",
       "      <th>children</th>\n",
       "      <th>charges</th>\n",
       "      <th>smoker_no</th>\n",
       "      <th>smoker_yes</th>\n",
       "    </tr>\n",
       "  </thead>\n",
       "  <tbody>\n",
       "    <tr>\n",
       "      <th>age</th>\n",
       "      <td>1.000000</td>\n",
       "      <td>0.109272</td>\n",
       "      <td>0.042469</td>\n",
       "      <td>0.299008</td>\n",
       "      <td>0.025019</td>\n",
       "      <td>-0.025019</td>\n",
       "    </tr>\n",
       "    <tr>\n",
       "      <th>bmi</th>\n",
       "      <td>0.109272</td>\n",
       "      <td>1.000000</td>\n",
       "      <td>0.012759</td>\n",
       "      <td>0.198341</td>\n",
       "      <td>-0.003750</td>\n",
       "      <td>0.003750</td>\n",
       "    </tr>\n",
       "    <tr>\n",
       "      <th>children</th>\n",
       "      <td>0.042469</td>\n",
       "      <td>0.012759</td>\n",
       "      <td>1.000000</td>\n",
       "      <td>0.067998</td>\n",
       "      <td>-0.007673</td>\n",
       "      <td>0.007673</td>\n",
       "    </tr>\n",
       "    <tr>\n",
       "      <th>charges</th>\n",
       "      <td>0.299008</td>\n",
       "      <td>0.198341</td>\n",
       "      <td>0.067998</td>\n",
       "      <td>1.000000</td>\n",
       "      <td>-0.787251</td>\n",
       "      <td>0.787251</td>\n",
       "    </tr>\n",
       "    <tr>\n",
       "      <th>smoker_no</th>\n",
       "      <td>0.025019</td>\n",
       "      <td>-0.003750</td>\n",
       "      <td>-0.007673</td>\n",
       "      <td>-0.787251</td>\n",
       "      <td>1.000000</td>\n",
       "      <td>-1.000000</td>\n",
       "    </tr>\n",
       "    <tr>\n",
       "      <th>smoker_yes</th>\n",
       "      <td>-0.025019</td>\n",
       "      <td>0.003750</td>\n",
       "      <td>0.007673</td>\n",
       "      <td>0.787251</td>\n",
       "      <td>-1.000000</td>\n",
       "      <td>1.000000</td>\n",
       "    </tr>\n",
       "  </tbody>\n",
       "</table>\n",
       "</div>"
      ],
      "text/plain": [
       "                 age       bmi  children   charges  smoker_no  smoker_yes\n",
       "age         1.000000  0.109272  0.042469  0.299008   0.025019   -0.025019\n",
       "bmi         0.109272  1.000000  0.012759  0.198341  -0.003750    0.003750\n",
       "children    0.042469  0.012759  1.000000  0.067998  -0.007673    0.007673\n",
       "charges     0.299008  0.198341  0.067998  1.000000  -0.787251    0.787251\n",
       "smoker_no   0.025019 -0.003750 -0.007673 -0.787251   1.000000   -1.000000\n",
       "smoker_yes -0.025019  0.003750  0.007673  0.787251  -1.000000    1.000000"
      ]
     },
     "execution_count": 40,
     "metadata": {},
     "output_type": "execute_result"
    }
   ],
   "source": [
    "dataset.corr()"
   ]
  },
  {
   "cell_type": "code",
   "execution_count": 29,
   "id": "55a0ff1b-1925-4c53-a9c0-14f3f00937de",
   "metadata": {},
   "outputs": [
    {
     "data": {
      "text/plain": [
       "Index(['age', 'bmi', 'children', 'charges', 'smoker_no', 'smoker_yes'], dtype='object')"
      ]
     },
     "execution_count": 29,
     "metadata": {},
     "output_type": "execute_result"
    }
   ],
   "source": [
    "dataset.columns"
   ]
  },
  {
   "cell_type": "code",
   "execution_count": 30,
   "id": "8d750cbd-5397-4fc4-9840-4727191256a5",
   "metadata": {},
   "outputs": [
    {
     "name": "stdout",
     "output_type": "stream",
     "text": [
      "<class 'pandas.core.frame.DataFrame'>\n",
      "RangeIndex: 1338 entries, 0 to 1337\n",
      "Data columns (total 6 columns):\n",
      " #   Column      Non-Null Count  Dtype  \n",
      "---  ------      --------------  -----  \n",
      " 0   age         1338 non-null   int64  \n",
      " 1   bmi         1338 non-null   float64\n",
      " 2   children    1338 non-null   int64  \n",
      " 3   charges     1338 non-null   float64\n",
      " 4   smoker_no   1338 non-null   float64\n",
      " 5   smoker_yes  1338 non-null   float64\n",
      "dtypes: float64(4), int64(2)\n",
      "memory usage: 62.8 KB\n"
     ]
    }
   ],
   "source": [
    "dataset.info()"
   ]
  },
  {
   "cell_type": "code",
   "execution_count": null,
   "id": "490c2559-37be-4071-85ad-6ccd65f12d9a",
   "metadata": {},
   "outputs": [],
   "source": [
    "## now lets strart the ML part"
   ]
  },
  {
   "cell_type": "markdown",
   "id": "4bece04d-6c78-44b4-82d4-7a622b465156",
   "metadata": {},
   "source": [
    "## STEP 1 - SEPERATE THE INDEPENDENT AND THE DEPENDENT VARIABLES "
   ]
  },
  {
   "cell_type": "code",
   "execution_count": 31,
   "id": "96558db0-a9c5-4370-9988-66e7d0556913",
   "metadata": {},
   "outputs": [],
   "source": [
    "X=dataset[['age', 'bmi', 'children','smoker_no', 'smoker_yes']] ##independent feature( DataFrame . not array)\n",
    "y=dataset['charges'] ## dependent feature array . \n",
    "## Train test split\n",
    "from sklearn.model_selection import train_test_split\n",
    "\n",
    "X_train,X_test,y_train,y_test = train_test_split(X,y,test_size=0.30,random_state=12)## 30% data for test "
   ]
  },
  {
   "cell_type": "markdown",
   "id": "3e00660f-c0a2-4565-a105-1e3bd0e77674",
   "metadata": {},
   "source": [
    "## STEP 2 - STANDARDIZATION "
   ]
  },
  {
   "cell_type": "code",
   "execution_count": 32,
   "id": "10d21cb3-feb9-4377-ac8f-bec36bae5eb1",
   "metadata": {},
   "outputs": [],
   "source": [
    "## standardize the dataset Train independent data\n",
    "from sklearn.preprocessing import StandardScaler\n",
    "\n",
    "scaler=StandardScaler()\n",
    "\n",
    "X_train=scaler.fit_transform(X_train)\n",
    "X_test=scaler.transform(X_test) "
   ]
  },
  {
   "cell_type": "markdown",
   "id": "8f46a5a0-21d2-451f-8666-7ced092b5ce3",
   "metadata": {},
   "source": [
    "## STEP 3 - CREATE A MODEL "
   ]
  },
  {
   "cell_type": "code",
   "execution_count": 33,
   "id": "5b001da4-15ef-4200-b6cf-71b1c2ff713a",
   "metadata": {},
   "outputs": [
    {
     "data": {
      "text/html": [
       "<style>#sk-container-id-1 {color: black;background-color: white;}#sk-container-id-1 pre{padding: 0;}#sk-container-id-1 div.sk-toggleable {background-color: white;}#sk-container-id-1 label.sk-toggleable__label {cursor: pointer;display: block;width: 100%;margin-bottom: 0;padding: 0.3em;box-sizing: border-box;text-align: center;}#sk-container-id-1 label.sk-toggleable__label-arrow:before {content: \"▸\";float: left;margin-right: 0.25em;color: #696969;}#sk-container-id-1 label.sk-toggleable__label-arrow:hover:before {color: black;}#sk-container-id-1 div.sk-estimator:hover label.sk-toggleable__label-arrow:before {color: black;}#sk-container-id-1 div.sk-toggleable__content {max-height: 0;max-width: 0;overflow: hidden;text-align: left;background-color: #f0f8ff;}#sk-container-id-1 div.sk-toggleable__content pre {margin: 0.2em;color: black;border-radius: 0.25em;background-color: #f0f8ff;}#sk-container-id-1 input.sk-toggleable__control:checked~div.sk-toggleable__content {max-height: 200px;max-width: 100%;overflow: auto;}#sk-container-id-1 input.sk-toggleable__control:checked~label.sk-toggleable__label-arrow:before {content: \"▾\";}#sk-container-id-1 div.sk-estimator input.sk-toggleable__control:checked~label.sk-toggleable__label {background-color: #d4ebff;}#sk-container-id-1 div.sk-label input.sk-toggleable__control:checked~label.sk-toggleable__label {background-color: #d4ebff;}#sk-container-id-1 input.sk-hidden--visually {border: 0;clip: rect(1px 1px 1px 1px);clip: rect(1px, 1px, 1px, 1px);height: 1px;margin: -1px;overflow: hidden;padding: 0;position: absolute;width: 1px;}#sk-container-id-1 div.sk-estimator {font-family: monospace;background-color: #f0f8ff;border: 1px dotted black;border-radius: 0.25em;box-sizing: border-box;margin-bottom: 0.5em;}#sk-container-id-1 div.sk-estimator:hover {background-color: #d4ebff;}#sk-container-id-1 div.sk-parallel-item::after {content: \"\";width: 100%;border-bottom: 1px solid gray;flex-grow: 1;}#sk-container-id-1 div.sk-label:hover label.sk-toggleable__label {background-color: #d4ebff;}#sk-container-id-1 div.sk-serial::before {content: \"\";position: absolute;border-left: 1px solid gray;box-sizing: border-box;top: 0;bottom: 0;left: 50%;z-index: 0;}#sk-container-id-1 div.sk-serial {display: flex;flex-direction: column;align-items: center;background-color: white;padding-right: 0.2em;padding-left: 0.2em;position: relative;}#sk-container-id-1 div.sk-item {position: relative;z-index: 1;}#sk-container-id-1 div.sk-parallel {display: flex;align-items: stretch;justify-content: center;background-color: white;position: relative;}#sk-container-id-1 div.sk-item::before, #sk-container-id-1 div.sk-parallel-item::before {content: \"\";position: absolute;border-left: 1px solid gray;box-sizing: border-box;top: 0;bottom: 0;left: 50%;z-index: -1;}#sk-container-id-1 div.sk-parallel-item {display: flex;flex-direction: column;z-index: 1;position: relative;background-color: white;}#sk-container-id-1 div.sk-parallel-item:first-child::after {align-self: flex-end;width: 50%;}#sk-container-id-1 div.sk-parallel-item:last-child::after {align-self: flex-start;width: 50%;}#sk-container-id-1 div.sk-parallel-item:only-child::after {width: 0;}#sk-container-id-1 div.sk-dashed-wrapped {border: 1px dashed gray;margin: 0 0.4em 0.5em 0.4em;box-sizing: border-box;padding-bottom: 0.4em;background-color: white;}#sk-container-id-1 div.sk-label label {font-family: monospace;font-weight: bold;display: inline-block;line-height: 1.2em;}#sk-container-id-1 div.sk-label-container {text-align: center;}#sk-container-id-1 div.sk-container {/* jupyter's `normalize.less` sets `[hidden] { display: none; }` but bootstrap.min.css set `[hidden] { display: none !important; }` so we also need the `!important` here to be able to override the default hidden behavior on the sphinx rendered scikit-learn.org. See: https://github.com/scikit-learn/scikit-learn/issues/21755 */display: inline-block !important;position: relative;}#sk-container-id-1 div.sk-text-repr-fallback {display: none;}</style><div id=\"sk-container-id-1\" class=\"sk-top-container\"><div class=\"sk-text-repr-fallback\"><pre>LinearRegression()</pre><b>In a Jupyter environment, please rerun this cell to show the HTML representation or trust the notebook. <br />On GitHub, the HTML representation is unable to render, please try loading this page with nbviewer.org.</b></div><div class=\"sk-container\" hidden><div class=\"sk-item\"><div class=\"sk-estimator sk-toggleable\"><input class=\"sk-toggleable__control sk-hidden--visually\" id=\"sk-estimator-id-1\" type=\"checkbox\" checked><label for=\"sk-estimator-id-1\" class=\"sk-toggleable__label sk-toggleable__label-arrow\">LinearRegression</label><div class=\"sk-toggleable__content\"><pre>LinearRegression()</pre></div></div></div></div></div>"
      ],
      "text/plain": [
       "LinearRegression()"
      ]
     },
     "execution_count": 33,
     "metadata": {},
     "output_type": "execute_result"
    }
   ],
   "source": [
    "## Train the Linear Regression Model\n",
    "from sklearn.linear_model import LinearRegression\n",
    "\n",
    "regressor=LinearRegression()\n",
    "\n",
    "regressor.fit(X_train,y_train) ## train the model"
   ]
  },
  {
   "cell_type": "code",
   "execution_count": 34,
   "id": "80ba7dc1-6b1a-4f83-aa31-4893b9d438dd",
   "metadata": {},
   "outputs": [],
   "source": [
    "## see the slope and intercept."
   ]
  },
  {
   "cell_type": "code",
   "execution_count": 35,
   "id": "1e831db0-8a3c-47bd-a098-2512de89c0f9",
   "metadata": {},
   "outputs": [
    {
     "name": "stdout",
     "output_type": "stream",
     "text": [
      "The slope or coefficient of weight is  [ 3679.08426999  2100.39887942   363.27425601 -4949.87052884\n",
      "  4949.87052884]\n",
      "Intercept: 13554.73261695406\n"
     ]
    }
   ],
   "source": [
    "print(\"The slope or coefficient of weight is \",regressor.coef_)\n",
    "print(\"Intercept:\",regressor.intercept_)"
   ]
  },
  {
   "cell_type": "markdown",
   "id": "251066fd-a2f2-4c16-ab44-820fc3ab63bb",
   "metadata": {},
   "source": [
    "### NOTE - We cannot get a graph as this is multidimensional"
   ]
  },
  {
   "cell_type": "markdown",
   "id": "179ab2a6-fa97-4706-aa5e-06b2515e0c1e",
   "metadata": {},
   "source": []
  },
  {
   "cell_type": "markdown",
   "id": "348318f0-7213-421c-8971-67d5dec897ed",
   "metadata": {},
   "source": [
    "## STEP 4 - PREDICTION WITH RESPECT  THE TEST DATA AND COMAPRISION"
   ]
  },
  {
   "cell_type": "code",
   "execution_count": 37,
   "id": "2b5f8413-c409-4888-b58b-3b26aff74daf",
   "metadata": {},
   "outputs": [],
   "source": [
    "y_pred_test=regressor.predict(X_test)"
   ]
  },
  {
   "cell_type": "code",
   "execution_count": 41,
   "id": "a046229e-4543-4544-a49b-a04e4559dfac",
   "metadata": {},
   "outputs": [
    {
     "data": {
      "text/html": [
       "<div>\n",
       "<style scoped>\n",
       "    .dataframe tbody tr th:only-of-type {\n",
       "        vertical-align: middle;\n",
       "    }\n",
       "\n",
       "    .dataframe tbody tr th {\n",
       "        vertical-align: top;\n",
       "    }\n",
       "\n",
       "    .dataframe thead th {\n",
       "        text-align: right;\n",
       "    }\n",
       "</style>\n",
       "<table border=\"1\" class=\"dataframe\">\n",
       "  <thead>\n",
       "    <tr style=\"text-align: right;\">\n",
       "      <th></th>\n",
       "      <th>Predicted_Charges</th>\n",
       "      <th>Actual_Charges</th>\n",
       "    </tr>\n",
       "  </thead>\n",
       "  <tbody>\n",
       "    <tr>\n",
       "      <th>936</th>\n",
       "      <td>9529.598083</td>\n",
       "      <td>32108.66282</td>\n",
       "    </tr>\n",
       "    <tr>\n",
       "      <th>728</th>\n",
       "      <td>5814.914133</td>\n",
       "      <td>2217.60120</td>\n",
       "    </tr>\n",
       "    <tr>\n",
       "      <th>1307</th>\n",
       "      <td>30496.481582</td>\n",
       "      <td>21472.47880</td>\n",
       "    </tr>\n",
       "    <tr>\n",
       "      <th>924</th>\n",
       "      <td>6399.996521</td>\n",
       "      <td>6250.43500</td>\n",
       "    </tr>\n",
       "    <tr>\n",
       "      <th>137</th>\n",
       "      <td>1637.177317</td>\n",
       "      <td>2045.68525</td>\n",
       "    </tr>\n",
       "  </tbody>\n",
       "</table>\n",
       "</div>"
      ],
      "text/plain": [
       "      Predicted_Charges  Actual_Charges\n",
       "936         9529.598083     32108.66282\n",
       "728         5814.914133      2217.60120\n",
       "1307       30496.481582     21472.47880\n",
       "924         6399.996521      6250.43500\n",
       "137         1637.177317      2045.68525"
      ]
     },
     "execution_count": 41,
     "metadata": {},
     "output_type": "execute_result"
    }
   ],
   "source": [
    "pd.DataFrame({'Predicted_Charges':y_pred_test,'Actual_Charges':y_test}).head()"
   ]
  },
  {
   "cell_type": "markdown",
   "id": "a6aeac28-f111-4285-9b2e-a662f985d257",
   "metadata": {},
   "source": [
    "## CHECK IF THE MODEL GOT OVERFITTED OR UNDERFITTED."
   ]
  },
  {
   "cell_type": "code",
   "execution_count": null,
   "id": "bd431391-ced7-47b2-af81-ba489371d13f",
   "metadata": {},
   "outputs": [],
   "source": [
    "## check acuuracy for training dataset"
   ]
  },
  {
   "cell_type": "code",
   "execution_count": 42,
   "id": "edbd6964-4874-43fa-b610-4fcf84468763",
   "metadata": {},
   "outputs": [],
   "source": [
    "from sklearn.metrics import r2_score\n",
    "score_training=r2_score(y_train,regressor.predict(X_train)) # gives the accuracy"
   ]
  },
  {
   "cell_type": "code",
   "execution_count": 43,
   "id": "d9a98803-a22d-4b0d-b9d1-cd1b6cf4d31a",
   "metadata": {},
   "outputs": [
    {
     "data": {
      "text/plain": [
       "0.7692368255374334"
      ]
     },
     "execution_count": 43,
     "metadata": {},
     "output_type": "execute_result"
    }
   ],
   "source": [
    "score_training"
   ]
  },
  {
   "cell_type": "code",
   "execution_count": 44,
   "id": "3691bcb3-abbb-466f-b92a-c0d5dc5146e1",
   "metadata": {},
   "outputs": [],
   "source": [
    "## check acuuracy for test dataset."
   ]
  },
  {
   "cell_type": "code",
   "execution_count": 45,
   "id": "7ae0ed9a-2322-4890-a6ce-c1ab3a01eb38",
   "metadata": {},
   "outputs": [],
   "source": [
    "score_test=r2_score(y_test,y_pred_test) # gives the accuracy"
   ]
  },
  {
   "cell_type": "code",
   "execution_count": 46,
   "id": "f35c001a-bba7-4de7-994f-69435861e482",
   "metadata": {},
   "outputs": [
    {
     "data": {
      "text/plain": [
       "0.6949314973022636"
      ]
     },
     "execution_count": 46,
     "metadata": {},
     "output_type": "execute_result"
    }
   ],
   "source": [
    "score_test"
   ]
  },
  {
   "cell_type": "markdown",
   "id": "4423f486-730f-4667-bb61-794b27ec0cbf",
   "metadata": {},
   "source": [
    "### ACCURACY FOR TRAINING DATASET - 76% . ACCURACY FOR TRAINING DATASET - 69% . "
   ]
  },
  {
   "cell_type": "markdown",
   "id": "36fa777e-4739-4e19-bfc3-8b7e45a1b3ec",
   "metadata": {},
   "source": [
    "## LETS SEE SOME GRAPHICAL ASSUMPTIONS"
   ]
  },
  {
   "cell_type": "code",
   "execution_count": 49,
   "id": "c2a49908-694c-43bd-a5f3-a7f71144de7f",
   "metadata": {},
   "outputs": [
    {
     "data": {
      "text/plain": [
       "<matplotlib.collections.PathCollection at 0x7f373b176170>"
      ]
     },
     "execution_count": 49,
     "metadata": {},
     "output_type": "execute_result"
    },
    {
     "data": {
      "image/png": "[encoded data removed]",
      "text/plain": [
       "<Figure size 640x480 with 1 Axes>"
      ]
     },
     "metadata": {},
     "output_type": "display_data"
    }
   ],
   "source": [
    "## Assumptions\n",
    "## plot a scatter plot for the prediction\n",
    "plt.scatter(y_test,y_pred_test) # predicted points vs actual points \n",
    "\n",
    "## if this follows a linear pattern - a model is well trained .\n"
   ]
  },
  {
   "cell_type": "code",
   "execution_count": 50,
   "id": "189095d3-a615-443e-bb5d-0576c5e88901",
   "metadata": {},
   "outputs": [
    {
     "data": {
      "text/plain": [
       "<AxesSubplot: xlabel='charges', ylabel='Density'>"
      ]
     },
     "execution_count": 50,
     "metadata": {},
     "output_type": "execute_result"
    },
    {
     "data": {
      "image/png": "[encoded data removed]",
      "text/plain": [
       "<Figure size 640x480 with 1 Axes>"
      ]
     },
     "metadata": {},
     "output_type": "display_data"
    }
   ],
   "source": [
    "## Residuals\n",
    "residuals=y_test-y_pred_test\n",
    "\n",
    "## plot this residuals\n",
    "import seaborn as sns\n",
    "sns.distplot(residuals,kde=True)\n",
    "\n",
    "## If you get a gaussian distribution the model is good ."
   ]
  },
  {
   "cell_type": "code",
   "execution_count": 51,
   "id": "992f0243-ef09-46e7-8daf-5efb7704ea33",
   "metadata": {},
   "outputs": [
    {
     "data": {
      "text/plain": [
       "<matplotlib.collections.PathCollection at 0x7f373ab67a60>"
      ]
     },
     "execution_count": 51,
     "metadata": {},
     "output_type": "execute_result"
    },
    {
     "data": {
      "image/png": "[encoded data removed]",
      "text/plain": [
       "<Figure size 640x480 with 1 Axes>"
      ]
     },
     "metadata": {},
     "output_type": "display_data"
    }
   ],
   "source": [
    "\n",
    "## Scatter plot with respect to prediction and residuals\n",
    "## uniform distribution\n",
    "plt.scatter(y_pred_test,residuals)\n",
    "\n",
    "## If we get a unifromly scattered plot , the model is good . \n"
   ]
  },
  {
   "cell_type": "markdown",
   "id": "2ebe10ea-c6b8-4207-8ea0-25ccc599b65d",
   "metadata": {},
   "source": [
    "# THANK YOU "
   ]
  }
 ],
 "metadata": {
  "kernelspec": {
   "display_name": "Python 3 (ipykernel)",
   "language": "python",
   "name": "python3"
  },
  "language_info": {
   "codemirror_mode": {
    "name": "ipython",
    "version": 3
   },
   "file_extension": ".py",
   "mimetype": "text/x-python",
   "name": "python",
   "nbconvert_exporter": "python",
   "pygments_lexer": "ipython3",
   "version": "3.10.8"
  }
 },
 "nbformat": 4,
 "nbformat_minor": 5
}
